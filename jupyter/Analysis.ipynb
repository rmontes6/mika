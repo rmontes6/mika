{
 "cells": [
  {
   "cell_type": "code",
   "execution_count": 2,
   "id": "abb4948f",
   "metadata": {},
   "outputs": [],
   "source": [
    "import pandas as pd\n",
    "import numpy as np\n",
    "import matplotlib.pyplot as plt\n",
    "import plotly.express as px\n",
    "import plotly.graph_objects as go\n",
    "from plotly.subplots import make_subplots\n",
    "from dash import html, dcc, Input, Output, dash_table\n",
    "import dash_bootstrap_components as dbc"
   ]
  },
  {
   "cell_type": "code",
   "execution_count": 3,
   "id": "8570fa1c",
   "metadata": {},
   "outputs": [],
   "source": [
    "data = pd.read_excel('../data/Detalle_Gastos_Ganancias.xlsx')\n",
    "df = data[['Año', 'Mes', 'SubCategoria', 'Categoria', 'Cantidad ACT', 'Cantidad TGT']].fillna(0)\n",
    "df['ACT - TGT'] = df['Cantidad ACT'] - df['Cantidad TGT']"
   ]
  },
  {
   "cell_type": "code",
   "execution_count": 4,
   "id": "9e286cd2",
   "metadata": {},
   "outputs": [],
   "source": [
    "def phasing_dimension():\n",
    "    month = ['Enero', 'Febrero', 'Marzo', 'Abril', 'Mayo', 'Junio', 'Julio', 'Agosto', 'Septiembre', 'Octubre', 'Noviembre', 'Diciembre']\n",
    "    return month"
   ]
  },
  {
   "cell_type": "code",
   "execution_count": 5,
   "id": "0025b573",
   "metadata": {},
   "outputs": [],
   "source": [
    "def sort_df_by_month(data_frame):\n",
    "    month = phasing_dimension()\n",
    "    data_frame['Mes'] = pd.Categorical(data_frame['Mes'], categories=month, ordered=True)\n",
    "    data_frame = data_frame.sort_values('Mes')\n",
    "\n",
    "    return data_frame"
   ]
  }
 ],
 "metadata": {
  "kernelspec": {
   "display_name": "Python 3 (ipykernel)",
   "language": "python",
   "name": "python3"
  },
  "language_info": {
   "codemirror_mode": {
    "name": "ipython",
    "version": 3
   },
   "file_extension": ".py",
   "mimetype": "text/x-python",
   "name": "python",
   "nbconvert_exporter": "python",
   "pygments_lexer": "ipython3",
   "version": "3.7.2"
  }
 },
 "nbformat": 4,
 "nbformat_minor": 5
}
