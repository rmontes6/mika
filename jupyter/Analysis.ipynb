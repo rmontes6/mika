{
 "cells": [
  {
   "cell_type": "code",
   "execution_count": 3,
   "id": "abb4948f",
   "metadata": {},
   "outputs": [],
   "source": [
    "import pandas as pd\n",
    "import numpy as np\n",
    "import matplotlib.pyplot as plt\n",
    "import plotly.express as px\n",
    "import plotly.graph_objects as go\n",
    "from plotly.subplots import make_subplots\n",
    "from dash import html, dcc, Input, Output, dash_table\n",
    "import dash_bootstrap_components as dbc"
   ]
  },
  {
   "cell_type": "code",
   "execution_count": 13,
   "id": "cfdee596",
   "metadata": {},
   "outputs": [],
   "source": [
    "def phasing_dimension():\n",
    "    month = ['Enero', 'Febrero', 'Marzo', 'Abril', 'Mayo', 'Junio', 'Julio', 'Agosto', 'Septiembre', 'Octubre', 'Noviembre', 'Diciembre']\n",
    "    return month\n",
    "\n",
    "def sort_df_by_month(data_frame):\n",
    "    month = phasing_dimension()\n",
    "    data_frame['Mes'] = pd.Categorical(data_frame['Mes'], categories=month, ordered=True)\n",
    "    data_frame = data_frame.sort_values('Mes')\n",
    "\n",
    "    return data_frame\n",
    "\n",
    "def current_year_data():\n",
    "    data_excel = pd.ExcelFile('../data/Detalle_Gastos_Ganancias.xlsx')\n",
    "    data = [pd.read_excel('../data/Detalle_Gastos_Ganancias.xlsx', sheet_name=sheet) for sheet in data_excel.sheet_names]\n",
    "    for i in range(len(data)):\n",
    "        if data[i][(data[i]['Categoria'] == 'Ingresos') & (data[i]['Mes'] == 'Enero')]['Cantidad ACT'].iloc[0] > 0:\n",
    "            current_year = int(data_excel.sheet_names[i])\n",
    "    return current_year\n",
    "\n",
    "def previous_year_data():\n",
    "    act_year = current_year_data()\n",
    "    data_excel = pd.ExcelFile('../data/Detalle_Gastos_Ganancias.xlsx')\n",
    "    if act_year == int(data_excel.sheet_names[0]):\n",
    "        previous_year_data = None\n",
    "    else:\n",
    "        previous_year_data = act_year- 1\n",
    "    return previous_year_data\n",
    "\n",
    "def main_df():\n",
    "    years = [previous_year_data(), current_year_data()]\n",
    "    data = [pd.read_excel('../data/Detalle_Gastos_Ganancias.xlsx', sheet_name=str(sheet)) for sheet in years if sheet]\n",
    "    for i in range(len(data)):\n",
    "        data[i] = data[i][['Año', 'Mes', 'SubCategoria', 'Categoria', 'Cantidad ACT', 'Cantidad TGT', 'Cantidad PY']].fillna(0)\n",
    "        data[i]['ACT vs TGT'] = data[i]['Cantidad ACT'] - data[i]['Cantidad TGT']\n",
    "        data[i]['ACT vs PY'] = data[i]['Cantidad ACT'] - data[i]['Cantidad PY']\n",
    "    df = pd.concat(data, ignore_index=True)\n",
    "    return df"
   ]
  },
  {
   "cell_type": "code",
   "execution_count": 23,
   "id": "76debdd0",
   "metadata": {},
   "outputs": [
    {
     "data": {
      "text/plain": [
       "[1299.2399999999998]"
      ]
     },
     "execution_count": 23,
     "metadata": {},
     "output_type": "execute_result"
    }
   ],
   "source": [
    "year=2024\n",
    "data_frame = main_df()\n",
    "df_prev = data_frame[(data_frame['Año'] == year)].groupby(['Categoria', 'Mes']).sum().reset_index()\n",
    "df_prev = sort_df_by_month(df_prev)\n",
    "df_prev = df_prev.pivot(index='Mes', columns='Categoria', values=['Cantidad ACT', 'Cantidad TGT', 'ACT vs TGT'])\n",
    "df_prev = df_prev[df_prev['Cantidad ACT']['Ingresos']>0][['ACT vs TGT']]\n",
    "df_prev = df_prev[:]['ACT vs TGT']\n",
    "savings_per_month = []\n",
    "for month in df_prev.index:\n",
    "    savings_per_month.append(df_prev[:month].sum().sum())\n",
    "savings_per_month"
   ]
  },
  {
   "cell_type": "code",
   "execution_count": null,
   "id": "078b9368",
   "metadata": {},
   "outputs": [],
   "source": []
  }
 ],
 "metadata": {
  "kernelspec": {
   "display_name": "Python 3 (ipykernel)",
   "language": "python",
   "name": "python3"
  },
  "language_info": {
   "codemirror_mode": {
    "name": "ipython",
    "version": 3
   },
   "file_extension": ".py",
   "mimetype": "text/x-python",
   "name": "python",
   "nbconvert_exporter": "python",
   "pygments_lexer": "ipython3",
   "version": "3.7.2"
  }
 },
 "nbformat": 4,
 "nbformat_minor": 5
}
